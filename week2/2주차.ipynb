{
 "cells": [
  {
   "cell_type": "markdown",
   "id": "92445c44",
   "metadata": {},
   "source": [
    "# **GDG 인공지능 기초 2주차 과제**\n",
    "이번 주차 과제는 softmax 실습과, 몇가지 문제로 구성되어있습니다!"
   ]
  },
  {
   "cell_type": "markdown",
   "id": "bfa6f75c",
   "metadata": {},
   "source": [
    "## **<span style=\"color:green\"> [ 실습 ] </span> Softmax**\n"
   ]
  },
  {
   "cell_type": "markdown",
   "id": "e259302b",
   "metadata": {},
   "source": [
    "**<span style=\"color:red\"> 1. </span>** 우선 실습에 필요한 모듈을 다운 받아줍니다."
   ]
  },
  {
   "cell_type": "code",
   "execution_count": null,
   "id": "a6c00d93",
   "metadata": {
    "colab": {
     "base_uri": "https://localhost:8080/"
    },
    "id": "a6c00d93",
    "outputId": "c6065ddd-7552-419d-e391-7cbf0eba81b0"
   },
   "outputs": [],
   "source": [
    "!pip3 install torch torchvision\n",
    "!pip3 install numpy"
   ]
  },
  {
   "cell_type": "code",
   "execution_count": null,
   "id": "97f07c69",
   "metadata": {},
   "outputs": [],
   "source": [
    "import torch\n",
    "import torch.nn as nn\n",
    "import torch.nn.functional as F\n",
    "import torch.optim as optim\n",
    "import torchvision\n",
    "import numpy as np"
   ]
  },
  {
   "cell_type": "code",
   "execution_count": null,
   "id": "40e068ed",
   "metadata": {
    "id": "40e068ed",
    "tags": [
     "pdf-ignore"
    ]
   },
   "outputs": [],
   "source": [
    "import random\n",
    "import matplotlib.pyplot as plt\n",
    "\n",
    "random.seed(777)\n",
    "torch.manual_seed(777)\n",
    "\n",
    "%matplotlib inline\n",
    "plt.rcParams['figure.figsize'] = (10.0, 8.0)\n",
    "plt.rcParams['image.interpolation'] = 'nearest'\n",
    "plt.rcParams['image.cmap'] = 'gray'\n",
    "\n",
    "%load_ext autoreload\n",
    "%autoreload 2"
   ]
  },
  {
   "cell_type": "markdown",
   "id": "62f323c4",
   "metadata": {},
   "source": [
    "**<span style=\"color:red\"> 2. </span>** 실습에 사용할 데이터 셋을 받아오고 이전에 했던 간단한 처리들을 해줍시다다"
   ]
  },
  {
   "cell_type": "code",
   "execution_count": null,
   "id": "e9470bcd",
   "metadata": {
    "colab": {
     "base_uri": "https://localhost:8080/"
    },
    "id": "e9470bcd",
    "outputId": "5fac4d9c-6f3d-4272-d022-ae08225c5d30",
    "tags": [
     "pdf-ignore"
    ]
   },
   "outputs": [],
   "source": [
    "# CIFAR-10 데이터셋 로드\n",
    "train_dataset = torchvision.datasets.CIFAR10(root=\"./data\", train=True, download=True)\n",
    "test_dataset = torchvision.datasets.CIFAR10(root=\"./data\", train=False, download=True)\n",
    "\n",
    "X_train = np.array(train_dataset.data)\n",
    "y_train = np.array(train_dataset.targets)\n",
    "X_test = np.array(test_dataset.data)\n",
    "y_test = np.array(test_dataset.targets) \n",
    "\n",
    "# 데이터의 크기 확인\n",
    "print(f\"Train X shape: {X_train.shape}, Train Y shape: {y_train.shape}\")\n",
    "print(f\"Test X shape: {X_test.shape}, Test Y shape: {y_test.shape}\")\n",
    "\n",
    "# 데이터 시각화\n",
    "classes = ['plane', 'car', 'bird', 'cat', 'deer', 'dog', 'frog', 'horse', 'ship', 'truck']\n",
    "num_classes = len(classes)\n",
    "samples_per_class = 7\n",
    "for y, cls in enumerate(classes):\n",
    "    idxs = np.flatnonzero(y_train == y)\n",
    "    idxs = np.random.choice(idxs, samples_per_class, replace=False)\n",
    "    for i, idx in enumerate(idxs):\n",
    "        plt_idx = i * num_classes + y + 1\n",
    "        plt.subplot(samples_per_class, num_classes, plt_idx)\n",
    "        plt.imshow(X_train[idx].astype('uint8'))\n",
    "        plt.axis('off')\n",
    "        if i == 0:\n",
    "            plt.title(cls)\n",
    "plt.show()\n",
    "\n",
    "num_training = 5000\n",
    "mask = list(range(num_training))\n",
    "X_train = X_train[mask]\n",
    "y_train = y_train[mask]\n",
    "\n",
    "num_test = 500\n",
    "mask = list(range(num_test))\n",
    "X_test = X_test[mask]\n",
    "y_test = y_test[mask]\n",
    "\n",
    "# 데이터 이미지의 차원 변경\n",
    "X_train = np.reshape(X_train, (X_train.shape[0], -1))\n",
    "X_test = np.reshape(X_test, (X_test.shape[0], -1))"
   ]
  },
  {
   "cell_type": "markdown",
   "id": "3e82b91c",
   "metadata": {},
   "source": [
    "**<span style=\"color:red\"> 3. </span>**  분류기를 만들고, 학습을 진행합니다. 최적화는 파이토치에 구현되어있는 것으로 했습니다."
   ]
  },
  {
   "cell_type": "code",
   "execution_count": null,
   "id": "e6a64569",
   "metadata": {
    "id": "e6a64569",
    "tags": [
     "pdf-ignore"
    ]
   },
   "outputs": [],
   "source": [
    "X_train = torch.Tensor(X_train)\n",
    "X_test = torch.Tensor(X_test)\n",
    "# 학습을 용이하게 하기 위해 데이터 정규화\n",
    "X_train = (X_train - X_train.mean(0)) / X_train.std(0)\n",
    "X_test = (X_test - X_test.mean(0)) / X_test.std(0)\n",
    "\n",
    "# 모델 초기화\n",
    "W = torch.zeros((X_train.shape[1], num_classes), requires_grad=True)\n",
    "b = torch.zeros((num_classes,), requires_grad=True) \n",
    "y_train = torch.Tensor(y_train).long()\n",
    "\n",
    "# optimizer 설정\n",
    "optimizer = optim.SGD([W, b], lr=0.01) # 경사하강법, 학습률 = 0.01\n",
    "\n",
    "nb_epochs = 1000\n",
    "for epoch in range(nb_epochs + 1):\n",
    "\n",
    "    F = X_train@W + b\n",
    "\n",
    "    cost = F.cross_entropy(F, y_train)\n",
    "\n",
    "    # cost로 F(x) 개선\n",
    "    optimizer.zero_grad()\n",
    "    cost.backward()\n",
    "    optimizer.step()\n",
    "\n",
    "    # 100번마다 로그 출력\n",
    "    if epoch % 100 == 0:\n",
    "        print('Epoch {:4d}/{} Cost: {:.6f}'.format(\n",
    "            epoch, nb_epochs, cost.item()\n",
    "        ))\n",
    "    "
   ]
  },
  {
   "cell_type": "markdown",
   "id": "eb388396",
   "metadata": {},
   "source": [
    "**<span style=\"color:red\"> 4. </span>** test 데이터를 통해 정확도를 계산합니다다  "
   ]
  },
  {
   "cell_type": "code",
   "execution_count": null,
   "id": "f02318c5",
   "metadata": {},
   "outputs": [],
   "source": [
    "with torch.no_grad():\n",
    "    logits = X_test@W + b\n",
    "    score = F.softmax(logits, dim=0)\n",
    "    pred = torch.argmax(score, dim=1)\n",
    "\n",
    "correct = (pred == y_test).sum().item()\n",
    "accuracy = correct / len(y_test)\n",
    "\n",
    "print(f\"✅ Test Accuracy: {accuracy * 100:.2f}%\")"
   ]
  },
  {
   "cell_type": "markdown",
   "id": "f354d246",
   "metadata": {
    "id": "f354d246"
   },
   "source": [
    "**<span style=\"color:red\"> 5. </span>** 특정 이미지를 분류한 결과를 볼까요?"
   ]
  },
  {
   "cell_type": "code",
   "execution_count": null,
   "id": "5fa63e17",
   "metadata": {
    "colab": {
     "base_uri": "https://localhost:8080/"
    },
    "id": "5fa63e17",
    "outputId": "37647cad-0c28-4456-de8d-cd822e606b0f",
    "tags": [
     "code"
    ]
   },
   "outputs": [],
   "source": [
    "random.seed(123)\n",
    "num_samples = 5\n",
    "indices = random.sample(range(X_test.shape[0]), num_samples)\n",
    "X_check = X_test[indices]\n",
    "y_check = y_test[indices]\n",
    "\n",
    "output = X_check @ W + b\n",
    "probs = F.softmax(output, dim=1)\n",
    "y_pred = torch.argmax(probs, dim=1)\n",
    "\n",
    "X_check = np.reshape(X_check, (5, 32, 32, 3))\n",
    "\n",
    "fig, axes = plt.subplots(1, num_samples, figsize=(10, 2))  # 1행 5열로 이미지 배치\n",
    "for i, ax in enumerate(axes):\n",
    "    ax.imshow(X_check[i])  # 이미지 표시\n",
    "    ax.axis('off')\n",
    "    ax.set_title(f\"Pred: {classes[int(y_pred[i])]}\\nTrue: {classes[y_check[i]]}\")  # 예측값 & 정답 표시\n",
    "\n"
   ]
  },
  {
   "cell_type": "markdown",
   "id": "fbedc19b",
   "metadata": {},
   "source": [
    "## **<span style=\"color:green\"> [ 문제 ] </span>**"
   ]
  },
  {
   "cell_type": "markdown",
   "id": "94cbe57d",
   "metadata": {},
   "source": [
    "**<span style=\"color:red\"> 1. </span>** F(x) = Wx + b의 식에서 x의 크기가 (3072 x 100)이고, F(x) 출력의 크기가 (10 x 100)이라면 W와 b의 크기는 어떻게 될까요?"
   ]
  },
  {
   "cell_type": "markdown",
   "id": "11bbe4a9",
   "metadata": {},
   "source": [
    "**<span style=\"color:red\"> [정답] </span>**"
   ]
  },
  {
   "cell_type": "markdown",
   "id": "afab2c83",
   "metadata": {},
   "source": [
    "W의 크기: 10 x  3072, b의 크기: 10"
   ]
  },
  {
   "cell_type": "markdown",
   "id": "e6c20505",
   "metadata": {},
   "source": [
    "**<span style=\"color:red\"> 2. </span>** Cross-Entropy Loss를 자주 사용하는 경우는 언제일까요?  \n",
    "① 군집화 문제  \n",
    "② 회귀 문제  \n",
    "③ 분류 문제  \n",
    "④ 시계열 예측 문제    "
   ]
  },
  {
   "cell_type": "markdown",
   "id": "0c4c22d9",
   "metadata": {},
   "source": [
    "**<span style=\"color:red\"> [정답] </span>**"
   ]
  },
  {
   "cell_type": "markdown",
   "id": "40dbc314",
   "metadata": {},
   "source": [
    "3번"
   ]
  },
  {
   "cell_type": "markdown",
   "id": "094aaed9",
   "metadata": {},
   "source": [
    "**<span style=\"color:red\"> 3. </span>** SVM의 Hinge loss와 Softmax함수의 loss 함수가 가질 수 있는 최댓값과 최솟값의 범위는 어떻게 될까요?"
   ]
  },
  {
   "cell_type": "markdown",
   "id": "812b603e",
   "metadata": {},
   "source": [
    "**<span style=\"color:red\"> [정답] </span>**"
   ]
  },
  {
   "cell_type": "markdown",
   "id": "c4443b15",
   "metadata": {},
   "source": [
    "두 함수 모두 최댓값은 무한대, 최솟값은 0이다."
   ]
  },
  {
   "cell_type": "markdown",
   "id": "51f92d00",
   "metadata": {},
   "source": [
    "**<span style=\"color:red\"> 4. </span>** SVM모델의 F(W, x) = Wx에서 W를 매우 작은 값으로 초기화를 하면 처음 Loss를 계산 했을 때 어떤 값이 나올까요?  \n",
    "① 0에 가까운 값이 나온다.  \n",
    "② 1이 나온다.  \n",
    "③ 총 class의 개수 만큼의 결과가 나온다.  \n",
    "④ 총 class의 개수 -1 의 결과가 나온다.  "
   ]
  },
  {
   "cell_type": "markdown",
   "id": "21167253",
   "metadata": {},
   "source": [
    "2번"
   ]
  },
  {
   "cell_type": "markdown",
   "id": "541f66da",
   "metadata": {},
   "source": [
    "**<span style=\"color:red\"> [정답] </span>**"
   ]
  },
  {
   "cell_type": "markdown",
   "id": "52c80719",
   "metadata": {},
   "source": [
    "**<span style=\"color:red\"> 5. </span>** Regularization을 사용하는 이유가 무엇일까요?   \n",
    "① 데이터의 크기를 확장시키기 위해    \n",
    "② 과적합을 방지하고 모델을 단순화하기 위해  \n",
    "③ 모델의 학습 속도를 증가시키기 위해  \n",
    "④ 모델을 복잡하게 만들어 복잡한 문제를 해결하기 위해    "
   ]
  },
  {
   "cell_type": "markdown",
   "id": "6c9ffa1b",
   "metadata": {},
   "source": [
    "**<span style=\"color:red\"> [정답] </span>**"
   ]
  },
  {
   "cell_type": "markdown",
   "id": "0197803c",
   "metadata": {},
   "source": [
    "2번"
   ]
  },
  {
   "cell_type": "markdown",
   "id": "ccd09673",
   "metadata": {},
   "source": [
    "## 2주차 과제 끝!\n",
    "2주차 과제는 여기까지 입니다!\n",
    "\n",
    "수업 중 이해가 안가거나 어려웠던 부분, 수업에 관한 피드백을 적어주시면 다음 주차 강의에 적극적으로 반영하겠습니다!"
   ]
  },
  {
   "cell_type": "markdown",
   "id": "144aeb4c",
   "metadata": {},
   "source": [
    "-여기에 적어주세요-"
   ]
  },
  {
   "cell_type": "markdown",
   "id": "f0a10462",
   "metadata": {},
   "source": [
    "ipynb 파일로 실습하는데 어려움이 있습니다.\n",
    "스터디 시간 때 실습내용을 설명해주셨으면 좋겠습니다."
   ]
  }
 ],
 "metadata": {
  "accelerator": "GPU",
  "colab": {
   "gpuType": "T4",
   "provenance": []
  },
  "kernelspec": {
   "display_name": "Python 3",
   "name": "python3"
  },
  "language_info": {
   "codemirror_mode": {
    "name": "ipython",
    "version": 3
   },
   "file_extension": ".py",
   "mimetype": "text/x-python",
   "name": "python",
   "nbconvert_exporter": "python",
   "pygments_lexer": "ipython3",
   "version": "3.11.3"
  }
 },
 "nbformat": 4,
 "nbformat_minor": 5
}
